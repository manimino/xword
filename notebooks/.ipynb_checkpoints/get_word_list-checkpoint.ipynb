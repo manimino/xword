{
 "cells": [
  {
   "cell_type": "code",
   "execution_count": 1,
   "id": "25506a8b-08ec-455c-825e-45a1db074282",
   "metadata": {},
   "outputs": [
    {
     "name": "stderr",
     "output_type": "stream",
     "text": [
      "/home/theo/anaconda3/lib/python3.9/site-packages/torch/cuda/__init__.py:83: UserWarning: CUDA initialization: CUDA driver initialization failed, you might not have a CUDA gpu. (Triggered internally at  /opt/conda/conda-bld/pytorch_1656352657443/work/c10/cuda/CUDAFunctions.cpp:109.)\n",
      "  return torch._C._cuda_getDeviceCount() > 0\n"
     ]
    }
   ],
   "source": [
    "import random\n",
    "import os\n",
    "import re\n",
    "from gensim import models\n",
    "from typing import *"
   ]
  },
  {
   "cell_type": "code",
   "execution_count": 2,
   "id": "af80216e-409d-4536-bdf8-4a74d335c57d",
   "metadata": {},
   "outputs": [],
   "source": [
    "def read_goog_file(data_dir: str='.', size: int=None, clean=True) -> List[str]:\n",
    "    \"\"\"\n",
    "    Read the 3M vectors of length 300 from the Google News dataset. \n",
    "    \n",
    "    Returns a list of words and a matrix of vectors. Indices match between the two.\n",
    "    The vectors are normalized to unit, because Semantle uses cos distance which ignores magnitude.\n",
    "    \n",
    "    data_dir: dir that contains source files\n",
    "    'size' and 'clean' will produce fewer rows.\n",
    "    size: a number smaller than 3 million. Stops reading once we hit that many rows.\n",
    "    clean: only keep high-quality words (no spaces, numbers, capital letters, or non-ascii.)\n",
    "    \"\"\"\n",
    "    vec_file = os.path.join(data_dir + 'GoogleNews-vectors-negative300.bin')\n",
    "    kv = models.KeyedVectors.load_word2vec_format(vec_file, binary=True, limit=size)\n",
    "    words = kv.index_to_key\n",
    "    vecs = []\n",
    "    w_set = set()\n",
    "    \n",
    "    # subset setup\n",
    "    if clean:\n",
    "        ascii_subset = re.compile(r'^[a-zA-Z _]+$')\n",
    "\n",
    "    # iterate over file\n",
    "    for w in words:\n",
    "        if clean:\n",
    "            # filter out proper nouns, pictograms, emoji, multi-words, etc. Eliminates 95% of the dataset.   \n",
    "            if not ascii_subset.match(w):\n",
    "                continue\n",
    "        w_set.add(w.lower())\n",
    "    \n",
    "    # combine, normalize, return\n",
    "    return w_set\n",
    "\n"
   ]
  },
  {
   "cell_type": "code",
   "execution_count": 3,
   "id": "f817be87-af7d-40f6-81f5-e444ed4bbb9e",
   "metadata": {},
   "outputs": [],
   "source": [
    "w_set = read_goog_file('/mnt/Spookley/datasets/semantle/')"
   ]
  },
  {
   "cell_type": "code",
   "execution_count": 4,
   "id": "3022bd89-57aa-4f43-83f7-69d8eb67269f",
   "metadata": {},
   "outputs": [],
   "source": [
    "ok = re.compile(r'^[a-zA-Z]+$')\n",
    "ls = []\n",
    "for w in sorted(list(w_set)):\n",
    "    w = w.replace('_', ' ').strip()\n",
    "    if w:\n",
    "        ls.append(w)\n"
   ]
  },
  {
   "cell_type": "code",
   "execution_count": 15,
   "id": "27b880e6-d5d0-40fd-8e6f-a3b4140f8b8d",
   "metadata": {},
   "outputs": [
    {
     "data": {
      "text/plain": [
       "['spokesman coy knobel',\n",
       " 'kcp mc cadres',\n",
       " 'phenyx',\n",
       " 'jac def',\n",
       " 'graffiti scrawls',\n",
       " 'lady anna komorowska',\n",
       " 'madcap analyzer',\n",
       " 'jawahar tunnel',\n",
       " 'william rapuzzi',\n",
       " 'pittsford ny buffalo bills']"
      ]
     },
     "execution_count": 15,
     "metadata": {},
     "output_type": "execute_result"
    }
   ],
   "source": [
    "[random.choice(ls) for _ in range(10)]"
   ]
  },
  {
   "cell_type": "code",
   "execution_count": 17,
   "id": "e72cb2f8-7c41-4f6d-8ea3-bef9e15d3d7d",
   "metadata": {},
   "outputs": [],
   "source": [
    "with open('all_words.txt', 'w') as fh:\n",
    "    for w in ls:\n",
    "        fh.write(w + '\\n')\n"
   ]
  },
  {
   "cell_type": "code",
   "execution_count": null,
   "id": "d0359e46-2cda-4524-9b30-bcd1130fda5f",
   "metadata": {},
   "outputs": [],
   "source": []
  }
 ],
 "metadata": {
  "kernelspec": {
   "display_name": "Python 3 (ipykernel)",
   "language": "python",
   "name": "python3"
  },
  "language_info": {
   "codemirror_mode": {
    "name": "ipython",
    "version": 3
   },
   "file_extension": ".py",
   "mimetype": "text/x-python",
   "name": "python",
   "nbconvert_exporter": "python",
   "pygments_lexer": "ipython3",
   "version": "3.9.7"
  }
 },
 "nbformat": 4,
 "nbformat_minor": 5
}
